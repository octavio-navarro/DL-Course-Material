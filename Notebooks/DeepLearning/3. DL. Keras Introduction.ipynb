{
  "nbformat": 4,
  "nbformat_minor": 0,
  "metadata": {
    "kernelspec": {
      "display_name": "Python 3",
      "language": "python",
      "name": "python3"
    },
    "language_info": {
      "codemirror_mode": {
        "name": "ipython",
        "version": 3
      },
      "file_extension": ".py",
      "mimetype": "text/x-python",
      "name": "python",
      "nbconvert_exporter": "python",
      "pygments_lexer": "ipython3",
      "version": "3.6.8"
    },
    "colab": {
      "name": "3. DL. Keras Introduction.ipynb",
      "provenance": [],
      "toc_visible": true
    }
  },
  "cells": [
    {
      "cell_type": "markdown",
      "metadata": {
        "id": "eVCR_J6F6Tvs"
      },
      "source": [
        "# Deep learning steps"
      ]
    },
    {
      "cell_type": "markdown",
      "metadata": {
        "id": "-7nflKCE6Tvv"
      },
      "source": [
        "#### Gather the dataset\n",
        "\n",
        "The first component of building a deep learning network is to gather our initial dataset. We need the data itself as well as the labels associated with each data point. These labels should come from a finite set of categories, such as: categories = dog, cat, panda.\n",
        "\n",
        "#### Split Your Dataset \n",
        "\n",
        "Now that we have our initial dataset, we need to split it into two parts: 1. A training set 2. A testing set A training set is used by our classifier to “learn” what each category looks like by making predictions on the input data and then correct itself when predictions are wrong. After the classifier has been trained, we can evaluate the performing on a testing set. Here are some common data splits:\n",
        "\n",
        "![data splits](https://github.com/octavio-navarro/DL-Course-Material/blob/master/Notebooks/images/test_train_split.png?raw=1)\n",
        "\n",
        "You should create a third data split called the validation set. This set of the data (normally) comes from the training data and is used as “fake test data” to tune the hyperparameters. Only after have we determined the hyperparameter values using the validation set do we move on to collecting final accuracy results in the testing data. We normally allocate roughly 10-20% of the training data for validation.\n",
        "\n",
        "#### Train the network\n",
        "\n",
        "Given our training set of images, we can now train our network. The goal here is for our network to learn how to recognize each of the categories in our labeled data. When the model makes a mistake, it learns from this mistake and improves itself.\n",
        "\n",
        "#### Evaluate\n",
        "\n",
        "Last, we need to evaluate our trained network. For each of the data in our testing set, we present them to the network and ask it to predict what it thinks the label of the data is. These model predictions are compared to the ground-truth labels from our testing set. The ground-truth labels represent what the data category actually is. From there, we can compute the number of predictions our classifier got correct and compute aggregate reports such as precision."
      ]
    },
    {
      "cell_type": "markdown",
      "metadata": {
        "id": "0NUTBggq6Tvw"
      },
      "source": [
        "# Keras\n",
        "\n",
        "Keras is a high-level neural networks API, written in Python and capable of running on top of TensorFlow, CNTK, or Theano. It was developed with a focus on enabling fast experimentation.\n",
        "\n",
        "Keras allows:\n",
        "\n",
        "1. Allows for easy and fast prototyping (through user friendliness, modularity, and extensibility).\n",
        "2. Supports both convolutional networks and recurrent networks, as well as combinations of the two.\n",
        "3. Runs seamlessly on CPU and GPU."
      ]
    },
    {
      "cell_type": "markdown",
      "metadata": {
        "id": "xc6_6lVm6Tvx"
      },
      "source": [
        "# Mnist with Keras"
      ]
    },
    {
      "cell_type": "markdown",
      "metadata": {
        "id": "y0jQFA_M6Tvx"
      },
      "source": [
        "#### Import dependencies"
      ]
    },
    {
      "cell_type": "code",
      "metadata": {
        "colab": {
          "base_uri": "https://localhost:8080/"
        },
        "id": "MYLA9Mg96Tvx",
        "outputId": "089e81fc-98f6-402b-bf72-07518b8f00fc"
      },
      "source": [
        "import tensorflow as tf\n",
        "from tensorflow.keras import models\n",
        "from tensorflow.keras import layers \n",
        "from tensorflow.keras.utils import to_categorical \n",
        "from tensorflow.keras.datasets import mnist\n",
        "\n",
        "import numpy as np\n",
        "import matplotlib.pyplot as plt\n",
        "\n",
        "print(f\"Tensforflow version:{tf.__version__}\")\n",
        "print(f\"Keras version:{tf.keras.__version__}\")"
      ],
      "execution_count": 10,
      "outputs": [
        {
          "output_type": "stream",
          "text": [
            "Tensforflow version:2.5.0\n",
            "Keras version:2.5.0\n"
          ],
          "name": "stdout"
        }
      ]
    },
    {
      "cell_type": "markdown",
      "metadata": {
        "id": "2rFtlZws6Tvy"
      },
      "source": [
        "#### Load and standardize the data set"
      ]
    },
    {
      "cell_type": "code",
      "metadata": {
        "colab": {
          "base_uri": "https://localhost:8080/"
        },
        "id": "cn4KkplZ6Tvz",
        "outputId": "3a729415-3912-46b1-f6fe-21a11f647d1e"
      },
      "source": [
        "# load the data, and separate it into train and test sets\n",
        "(train_images, train_labels), (test_images, test_labels) = mnist.load_data()\n",
        "\n",
        "# Standardize the data\n",
        "\n",
        "# flatten arrays\n",
        "train_images = train_images.reshape((60000, 28 * 28))\n",
        "\n",
        "# turn values from 0-255 to 0-1\n",
        "train_images = train_images.astype('float32') / 255 \n",
        "\n",
        "# same starndadization for the test images\n",
        "test_images = test_images.reshape((10000, 28 * 28)) \n",
        "test_images = test_images.astype('float32') / 255\n",
        "\n",
        "# one hot encoding\n",
        "train_labels = to_categorical(train_labels) \n",
        "test_labels = to_categorical(test_labels)"
      ],
      "execution_count": 2,
      "outputs": [
        {
          "output_type": "stream",
          "text": [
            "Downloading data from https://storage.googleapis.com/tensorflow/tf-keras-datasets/mnist.npz\n",
            "11493376/11490434 [==============================] - 0s 0us/step\n"
          ],
          "name": "stdout"
        }
      ]
    },
    {
      "cell_type": "markdown",
      "metadata": {
        "id": "OGr2fmIh6Tvz"
      },
      "source": [
        "#### Create and compile the model"
      ]
    },
    {
      "cell_type": "code",
      "metadata": {
        "colab": {
          "base_uri": "https://localhost:8080/"
        },
        "id": "vf2HwoJe6Tv0",
        "outputId": "f7f7505c-7136-464f-f173-71e9f7f52d71"
      },
      "source": [
        "# The keras.models.Sequential class is a wrapper for the neural network model that treats \n",
        "# the network as a sequence of layers\n",
        "network = models.Sequential()\n",
        "\n",
        "# Dense layers: fully connected layers\n",
        "network.add(layers.Dense(64, activation='sigmoid', input_shape=(28 * 28,))) \n",
        "network.add(layers.Dense(32, activation='sigmoid'))\n",
        "network.add(layers.Dense(10, activation='softmax'))\n",
        "\n",
        "# Once we have our model built, we need to compile it before it can be run. \n",
        "#Compiling the Keras model calls the backend (tensorflow, theano, etc.) and binds the optimizer, \n",
        "#loss function, and other parameters required before the model can be run on any input data.\n",
        "\n",
        "# loss function: basically, the error function. categorical crossentropy is one of many.\n",
        "\n",
        "# optimizer: this is the mechanism through which the network will update itself.\n",
        "# Stochastic Gradient descent (sgd) is one of those.\n",
        "\n",
        "# Metrics to monitor during training and testing. Here we will only care about accuracy.\n",
        "network.compile(optimizer='sgd', loss='categorical_crossentropy', metrics=['accuracy'])\n",
        "\n",
        "network.summary()"
      ],
      "execution_count": 3,
      "outputs": [
        {
          "output_type": "stream",
          "text": [
            "Model: \"sequential\"\n",
            "_________________________________________________________________\n",
            "Layer (type)                 Output Shape              Param #   \n",
            "=================================================================\n",
            "dense (Dense)                (None, 64)                50240     \n",
            "_________________________________________________________________\n",
            "dense_1 (Dense)              (None, 32)                2080      \n",
            "_________________________________________________________________\n",
            "dense_2 (Dense)              (None, 10)                330       \n",
            "=================================================================\n",
            "Total params: 52,650\n",
            "Trainable params: 52,650\n",
            "Non-trainable params: 0\n",
            "_________________________________________________________________\n"
          ],
          "name": "stdout"
        }
      ]
    },
    {
      "cell_type": "markdown",
      "metadata": {
        "id": "9WXt98Za6Tv0"
      },
      "source": [
        "#### Train the model\n",
        "\n",
        "The model is trained with the fit() method, through the following command that specifies the number of training epochs and the message level (how much information we want displayed on the screen during training)."
      ]
    },
    {
      "cell_type": "code",
      "metadata": {
        "colab": {
          "base_uri": "https://localhost:8080/"
        },
        "id": "bPXWo-wu6Tv1",
        "outputId": "eec41285-ca1a-44c4-a639-6d507a0a22a4"
      },
      "source": [
        "network.fit(train_images, train_labels, epochs=50)\n",
        "\n",
        "test_loss, test_acc = network.evaluate(test_images, test_labels)\n",
        "\n",
        "print(\"test loss: \", test_loss, \"test accuracy: \", test_acc)"
      ],
      "execution_count": 4,
      "outputs": [
        {
          "output_type": "stream",
          "text": [
            "Epoch 1/50\n",
            "1875/1875 [==============================] - 4s 2ms/step - loss: 2.1933 - accuracy: 0.3641\n",
            "Epoch 2/50\n",
            "1875/1875 [==============================] - 3s 2ms/step - loss: 1.7529 - accuracy: 0.5663\n",
            "Epoch 3/50\n",
            "1875/1875 [==============================] - 3s 2ms/step - loss: 1.2650 - accuracy: 0.6906\n",
            "Epoch 4/50\n",
            "1875/1875 [==============================] - 3s 2ms/step - loss: 0.9379 - accuracy: 0.7767\n",
            "Epoch 5/50\n",
            "1875/1875 [==============================] - 3s 2ms/step - loss: 0.7359 - accuracy: 0.8254\n",
            "Epoch 6/50\n",
            "1875/1875 [==============================] - 3s 2ms/step - loss: 0.6125 - accuracy: 0.8485\n",
            "Epoch 7/50\n",
            "1875/1875 [==============================] - 3s 2ms/step - loss: 0.5348 - accuracy: 0.8637\n",
            "Epoch 8/50\n",
            "1875/1875 [==============================] - 3s 2ms/step - loss: 0.4828 - accuracy: 0.8731\n",
            "Epoch 9/50\n",
            "1875/1875 [==============================] - 3s 2ms/step - loss: 0.4455 - accuracy: 0.8819\n",
            "Epoch 10/50\n",
            "1875/1875 [==============================] - 3s 2ms/step - loss: 0.4174 - accuracy: 0.8874\n",
            "Epoch 11/50\n",
            "1875/1875 [==============================] - 3s 2ms/step - loss: 0.3950 - accuracy: 0.8917\n",
            "Epoch 12/50\n",
            "1875/1875 [==============================] - 3s 2ms/step - loss: 0.3769 - accuracy: 0.8963\n",
            "Epoch 13/50\n",
            "1875/1875 [==============================] - 3s 2ms/step - loss: 0.3618 - accuracy: 0.8994\n",
            "Epoch 14/50\n",
            "1875/1875 [==============================] - 3s 2ms/step - loss: 0.3489 - accuracy: 0.9021\n",
            "Epoch 15/50\n",
            "1875/1875 [==============================] - 3s 2ms/step - loss: 0.3376 - accuracy: 0.9053\n",
            "Epoch 16/50\n",
            "1875/1875 [==============================] - 3s 2ms/step - loss: 0.3276 - accuracy: 0.9074\n",
            "Epoch 17/50\n",
            "1875/1875 [==============================] - 3s 2ms/step - loss: 0.3186 - accuracy: 0.9092\n",
            "Epoch 18/50\n",
            "1875/1875 [==============================] - 3s 2ms/step - loss: 0.3105 - accuracy: 0.9117\n",
            "Epoch 19/50\n",
            "1875/1875 [==============================] - 3s 2ms/step - loss: 0.3029 - accuracy: 0.9137\n",
            "Epoch 20/50\n",
            "1875/1875 [==============================] - 3s 2ms/step - loss: 0.2959 - accuracy: 0.9156\n",
            "Epoch 21/50\n",
            "1875/1875 [==============================] - 3s 2ms/step - loss: 0.2894 - accuracy: 0.9173\n",
            "Epoch 22/50\n",
            "1875/1875 [==============================] - 3s 2ms/step - loss: 0.2833 - accuracy: 0.9192\n",
            "Epoch 23/50\n",
            "1875/1875 [==============================] - 3s 2ms/step - loss: 0.2776 - accuracy: 0.9203\n",
            "Epoch 24/50\n",
            "1875/1875 [==============================] - 3s 2ms/step - loss: 0.2720 - accuracy: 0.9219\n",
            "Epoch 25/50\n",
            "1875/1875 [==============================] - 3s 2ms/step - loss: 0.2667 - accuracy: 0.9237\n",
            "Epoch 26/50\n",
            "1875/1875 [==============================] - 3s 2ms/step - loss: 0.2617 - accuracy: 0.9251\n",
            "Epoch 27/50\n",
            "1875/1875 [==============================] - 3s 2ms/step - loss: 0.2568 - accuracy: 0.9263\n",
            "Epoch 28/50\n",
            "1875/1875 [==============================] - 3s 2ms/step - loss: 0.2522 - accuracy: 0.9279\n",
            "Epoch 29/50\n",
            "1875/1875 [==============================] - 3s 2ms/step - loss: 0.2477 - accuracy: 0.9294\n",
            "Epoch 30/50\n",
            "1875/1875 [==============================] - 3s 2ms/step - loss: 0.2434 - accuracy: 0.9303\n",
            "Epoch 31/50\n",
            "1875/1875 [==============================] - 3s 2ms/step - loss: 0.2391 - accuracy: 0.9316\n",
            "Epoch 32/50\n",
            "1875/1875 [==============================] - 3s 2ms/step - loss: 0.2350 - accuracy: 0.9327\n",
            "Epoch 33/50\n",
            "1875/1875 [==============================] - 3s 2ms/step - loss: 0.2312 - accuracy: 0.9341\n",
            "Epoch 34/50\n",
            "1875/1875 [==============================] - 3s 2ms/step - loss: 0.2274 - accuracy: 0.9352\n",
            "Epoch 35/50\n",
            "1875/1875 [==============================] - 3s 2ms/step - loss: 0.2236 - accuracy: 0.9363\n",
            "Epoch 36/50\n",
            "1875/1875 [==============================] - 3s 2ms/step - loss: 0.2200 - accuracy: 0.9371\n",
            "Epoch 37/50\n",
            "1875/1875 [==============================] - 3s 2ms/step - loss: 0.2165 - accuracy: 0.9376\n",
            "Epoch 38/50\n",
            "1875/1875 [==============================] - 3s 2ms/step - loss: 0.2131 - accuracy: 0.9389\n",
            "Epoch 39/50\n",
            "1875/1875 [==============================] - 3s 2ms/step - loss: 0.2098 - accuracy: 0.9402\n",
            "Epoch 40/50\n",
            "1875/1875 [==============================] - 3s 2ms/step - loss: 0.2066 - accuracy: 0.9410\n",
            "Epoch 41/50\n",
            "1875/1875 [==============================] - 3s 2ms/step - loss: 0.2036 - accuracy: 0.9414\n",
            "Epoch 42/50\n",
            "1875/1875 [==============================] - 3s 2ms/step - loss: 0.2005 - accuracy: 0.9421\n",
            "Epoch 43/50\n",
            "1875/1875 [==============================] - 3s 2ms/step - loss: 0.1975 - accuracy: 0.9432\n",
            "Epoch 44/50\n",
            "1875/1875 [==============================] - 3s 2ms/step - loss: 0.1947 - accuracy: 0.9439\n",
            "Epoch 45/50\n",
            "1875/1875 [==============================] - 3s 2ms/step - loss: 0.1919 - accuracy: 0.9446\n",
            "Epoch 46/50\n",
            "1875/1875 [==============================] - 3s 2ms/step - loss: 0.1892 - accuracy: 0.9456\n",
            "Epoch 47/50\n",
            "1875/1875 [==============================] - 3s 2ms/step - loss: 0.1865 - accuracy: 0.9463\n",
            "Epoch 48/50\n",
            "1875/1875 [==============================] - 3s 2ms/step - loss: 0.1839 - accuracy: 0.9471\n",
            "Epoch 49/50\n",
            "1875/1875 [==============================] - 3s 2ms/step - loss: 0.1813 - accuracy: 0.9477\n",
            "Epoch 50/50\n",
            "1875/1875 [==============================] - 3s 2ms/step - loss: 0.1788 - accuracy: 0.9484\n",
            "313/313 [==============================] - 1s 1ms/step - loss: 0.1808 - accuracy: 0.9471\n",
            "test loss:  0.18083950877189636 test accuracy:  0.9470999836921692\n"
          ],
          "name": "stdout"
        }
      ]
    },
    {
      "cell_type": "code",
      "metadata": {
        "scrolled": true,
        "colab": {
          "base_uri": "https://localhost:8080/",
          "height": 315
        },
        "id": "rLZ5bNAd6Tv1",
        "outputId": "1562ffbb-f00f-4252-b86a-c98232f47f24"
      },
      "source": [
        "# make a prediction on a specific image from the test data\n",
        "test_index = 8\n",
        "\n",
        "input_image = test_images[test_index].reshape(28*28)\n",
        "prediction = network.predict(np.array([input_image]))\n",
        "\n",
        "np.set_printoptions(precision=3, suppress= True)\n",
        "print(prediction, test_labels[test_index])\n",
        "\n",
        "plt.title(\"Label: \" + str(test_labels[test_index]))\n",
        "plt.imshow(test_images[test_index].reshape(28,28), cmap=\"gray\")"
      ],
      "execution_count": 5,
      "outputs": [
        {
          "output_type": "stream",
          "text": [
            "[[0.005 0.    0.004 0.    0.037 0.02  0.931 0.    0.003 0.001]] [0. 0. 0. 0. 0. 1. 0. 0. 0. 0.]\n"
          ],
          "name": "stdout"
        },
        {
          "output_type": "execute_result",
          "data": {
            "text/plain": [
              "<matplotlib.image.AxesImage at 0x7faaf5cf7410>"
            ]
          },
          "metadata": {
            "tags": []
          },
          "execution_count": 5
        },
        {
          "output_type": "display_data",
          "data": {
            "image/png": "[encoded data removed]",
            "text/plain": [
              "<Figure size 432x288 with 1 Axes>"
            ]
          },
          "metadata": {
            "tags": [],
            "needs_background": "light"
          }
        }
      ]
    }
  ]
}